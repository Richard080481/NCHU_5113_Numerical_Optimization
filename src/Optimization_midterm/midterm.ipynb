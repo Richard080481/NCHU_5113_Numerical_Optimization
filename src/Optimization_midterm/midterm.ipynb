{
  "cells": [
    {
      "cell_type": "code",
      "execution_count": 43,
      "metadata": {
        "id": "gBEQ3LdXbZ3T"
      },
      "outputs": [],
      "source": [
        "import numpy as np # type: ignore\n",
        "import matplotlib.pyplot as plt # type: ignore\n",
        "import math\n",
        "\n",
        "np.random.seed(421)"
      ]
    },
    {
      "cell_type": "markdown",
      "metadata": {},
      "source": [
        "## question 1"
      ]
    },
    {
      "cell_type": "code",
      "execution_count": 36,
      "metadata": {
        "id": "y-UefDTKSAoa"
      },
      "outputs": [],
      "source": [
        "def objective_function(x, A, b, lambda_):\n",
        "    term1 = 0.5 * np.linalg.norm((A @ x) - b)**2\n",
        "    term2 = lambda_ * np.linalg.norm(x, ord=1)\n",
        "    return term1 + term2\n",
        "\n",
        "def soft_thresholding_operator(x, threshold):\n",
        "    # print(np.abs(x))\n",
        "    # print(np.abs(x) - threshold)\n",
        "    # print(np.maximum(np.abs(x) - threshold, 0))\n",
        "    # input()\n",
        "    return np.sign(x) * np.maximum(np.abs(x) - threshold, 0)"
      ]
    },
    {
      "cell_type": "code",
      "execution_count": 42,
      "metadata": {
        "colab": {
          "base_uri": "https://localhost:8080/",
          "height": 982
        },
        "id": "mbeP5WRsbqQi",
        "outputId": "a90e16b2-f0f5-44c6-cdb5-32adcc051ce4"
      },
      "outputs": [],
      "source": [
        "def ISTA(A, b, x, lambda_):\n",
        "    objValue = []\n",
        "    eigenvalues = np.linalg.eigvals(A.T @ A)\n",
        "\n",
        "    # Find the largest eigenvalue\n",
        "    L = np.max(np.real(eigenvalues))\n",
        "    print(\"L\", L)\n",
        "    k = 0\n",
        "    while(1):\n",
        "        # print(k)\n",
        "        # print(x - ((1/L) * A.T @ (A @ x - b)))\n",
        "        x_new = soft_thresholding_operator(x - ((1/L) * (A.T @ (A @ x - b))), lambda_ / L)\n",
        "        # print(\"delta x\", np.linalg.norm(x_new - x))\n",
        "        # print(np.abs(objective_function(x_new, A, b)))\n",
        "        if(np.linalg.norm(x_new - x) < 1e-9):\n",
        "            break\n",
        "        objValue.append(objective_function(x, A, b, lambda_))\n",
        "        x = x_new\n",
        "        k+=1\n",
        "    return x, objValue\n",
        "\n",
        "# Create random matrix A\n",
        "A = np.array([[47, -15, -4, -16, -23, -13, -36, 6],\n",
        "              [-12, -28, 28, 14, -23, 4, 17, -12],\n",
        "              [15, -28, 6, 17, 2, -2, -18, 10],\n",
        "              [-4, 10, 4, -5, 14, -39, 2, 15],\n",
        "              [18, -4, 32, 4, 52, -9, -11, 34]])\n",
        "\n",
        "b = np.array([[119],\n",
        "              [-46],\n",
        "              [51],\n",
        "              [-8],\n",
        "              [40]])\n",
        "\n",
        "x = np.ones((A.shape[1], 1))"
      ]
    },
    {
      "cell_type": "code",
      "execution_count": 41,
      "metadata": {},
      "outputs": [
        {
          "name": "stdout",
          "output_type": "stream",
          "text": [
            "L 6898.065876561629\n",
            "L 6898.065876561629\n",
            "L 6898.065876561629\n"
          ]
        },
        {
          "data": {
            "image/png": "[encoded data removed]",
            "text/plain": [
              "<Figure size 640x480 with 1 Axes>"
            ]
          },
          "metadata": {},
          "output_type": "display_data"
        },
        {
          "name": "stdout",
          "output_type": "stream",
          "text": [
            "finX [[ 1.00010952]\n",
            " [-0.        ]\n",
            " [-0.        ]\n",
            " [-0.        ]\n",
            " [ 0.        ]\n",
            " [-0.        ]\n",
            " [-1.99982312]\n",
            " [ 0.        ]]\n",
            "finX [[ 1.00109453]\n",
            " [-0.        ]\n",
            " [-0.        ]\n",
            " [-0.        ]\n",
            " [ 0.        ]\n",
            " [-0.        ]\n",
            " [-1.99823194]\n",
            " [ 0.        ]]\n",
            "finX [[ 1.01094467]\n",
            " [-0.        ]\n",
            " [-0.        ]\n",
            " [-0.        ]\n",
            " [ 0.        ]\n",
            " [-0.        ]\n",
            " [-1.98232017]\n",
            " [ 0.        ]]\n"
          ]
        }
      ],
      "source": [
        "finX01, objValues01= ISTA(A, b, x, 0.1)\n",
        "finX1, objValues1= ISTA(A, b, x, 1)\n",
        "finX10, objValues10= ISTA(A, b, x, 10)\n",
        "\n",
        "plt.plot(range(len(objValues01) - 1), objValues01[1:])\n",
        "plt.plot(range(len(objValues1) - 1), objValues1[1:])\n",
        "plt.plot(range(len(objValues10) - 1), objValues10[1:])\n",
        "plt.yscale('log')\n",
        "plt.show()\n",
        "print(\"finX\", finX01)\n",
        "print(\"finX\", finX1)\n",
        "print(\"finX\", finX10)"
      ]
    },
    {
      "cell_type": "markdown",
      "metadata": {},
      "source": [
        "## question 3"
      ]
    },
    {
      "cell_type": "code",
      "execution_count": 63,
      "metadata": {},
      "outputs": [],
      "source": [
        "import numpy as np\n",
        "\n",
        "import matplotlib.pyplot as plt\n",
        "import math\n",
        "def foo(x):\n",
        "    return 10 * ((x[1] - (x[0] ** 2)) ** 2) + (2 - x[0]) ** 2 + (4 - x[1]) ** 2\n",
        "\n",
        "def fooGradient(x):\n",
        "    return np.array([40 * (x[0] ** 2 - x[1]) * x[0] + 2 * x[0] - 4, 20 * (x[1] - x[0] ** 2) -8 + 2 * x[1]])\n",
        "\n",
        "def armijo(x, alpha, direction, c, gradX):\n",
        "    f1 = foo(x)\n",
        "    f2 = foo(x + alpha * direction)\n",
        "    imp = c * alpha * gradX.T @ direction\n",
        "    # print(\"x=\", x, \"f1=\", f1, \"f2=\", f2, \"imp=\", imp, \"alpha=\", alpha, \"direction=\", direction)\n",
        "    return f2 <= f1 + imp\n",
        "\n",
        "def happy(gradSquareX):\n",
        "    return gradSquareX < 1e-5"
      ]
    },
    {
      "cell_type": "markdown",
      "metadata": {},
      "source": [
        "#### DFP"
      ]
    },
    {
      "cell_type": "code",
      "execution_count": 87,
      "metadata": {},
      "outputs": [
        {
          "name": "stdout",
          "output_type": "stream",
          "text": [
            "2 [2. 4.] [2. 4.] [4. 8.] [[ 0.9 -0.2]\n",
            " [-0.2  0.6]] 0.5 [-4 -8] [4 8]\n",
            "\n",
            "k= 2\n",
            "x= [2. 4.]\n"
          ]
        }
      ],
      "source": [
        "#### DFP\n",
        "def DFPHessian(h, p, q):\n",
        "    p = p.reshape(2, 1)\n",
        "    q = q.reshape(2, 1)\n",
        "    # print(\"DFPHessian\", h @ q, h @ q @ q.T)\n",
        "    return np.array(h + ((p @ p.T) / (p.T @ q)) - ((h @ q) @ q.T @ h) / ((q.T @ h) @ q))\n",
        "\n",
        "def DFP():\n",
        "    c = 0.5\n",
        "    rho = 0.5\n",
        "    alpha_0 = 1\n",
        "    h = np.array([[1, 0], [0, 1]])\n",
        "    x = np.array([0, 0])\n",
        "    k = 1\n",
        "    fooValues = []\n",
        "    gradValues = []\n",
        "    while True:\n",
        "        fooValue = foo(x)\n",
        "        # print(f\"\\rk={k}, foo={fooValue}, x={x}\", end=\"\")\n",
        "        alpha = alpha_0\n",
        "        fooValues.append(fooValue)\n",
        "        gradX = fooGradient(x)\n",
        "        gradSquareX = gradX.T @ gradX\n",
        "        gradValues.append(gradSquareX)\n",
        "        if happy(gradSquareX):\n",
        "            break\n",
        "\n",
        "        direction = -h @ gradX\n",
        "        while not armijo(x, alpha, direction, c, gradX):\n",
        "            alpha = alpha * rho\n",
        "        # next step\n",
        "        p = alpha * direction\n",
        "        x = x + alpha * direction\n",
        "        q = fooGradient(x) - gradX\n",
        "        k = k + 1\n",
        "        h = DFPHessian(h, p, q)\n",
        "        print(k, x, p, q, h, alpha, gradX, direction)\n",
        "\n",
        "    print()\n",
        "    print(\"k=\", k)\n",
        "    print(\"x=\", x)\n",
        "    return fooValue\n",
        "temp = DFP()"
      ]
    },
    {
      "cell_type": "markdown",
      "metadata": {},
      "source": [
        "#### BFGS"
      ]
    },
    {
      "cell_type": "code",
      "execution_count": 77,
      "metadata": {},
      "outputs": [
        {
          "name": "stdout",
          "output_type": "stream",
          "text": [
            "\n",
            "k= 2\n",
            "x= [2. 4.]\n"
          ]
        }
      ],
      "source": [
        "def BFGSHessian(h, p, q):\n",
        "    num_rows, nums_cols = h.shape\n",
        "    i = np.identity(num_rows)\n",
        "    p = p.reshape(2, 1)\n",
        "    q = q.reshape(2, 1)\n",
        "    # print(\"DFPHessian\", h @ q, h @ q @ q.T)\n",
        "    return ((i - ((p @ q.T) / (p.T @ q))) @ h) @ (i - ((q @ p.T) / (p.T @ q))) + ((p @ p.T) / (p.T @ q))\n",
        "    # return np.array(h - ((h @ q @ q.T @ h) / (q.T @ h @ q)) + ((p @ p.T) / (p.T @ q)))\n",
        "\n",
        "def BFGS():\n",
        "    c = 0.7\n",
        "    rho = 0.5\n",
        "    alpha_0 = 1\n",
        "    h = np.array([[1, 0], [0, 1]])\n",
        "    x = np.array([0, 0])\n",
        "    k = 1\n",
        "    fooValues = []\n",
        "    gradValues = []\n",
        "    while True:\n",
        "        fooValue = foo(x)\n",
        "        # print(f\"\\rk={k}, foo={fooValue}, x={x}\", end=\"\")\n",
        "        alpha = alpha_0\n",
        "        fooValues.append(fooValue)\n",
        "        gradX = fooGradient(x)\n",
        "        gradSquareX = gradX.T @ gradX\n",
        "        gradValues.append(gradSquareX)\n",
        "        if happy(gradSquareX):\n",
        "            break\n",
        "\n",
        "        direction = -h @ gradX\n",
        "        while not armijo(x, alpha, direction, c, gradX):\n",
        "            alpha = alpha * rho\n",
        "        # next step\n",
        "        p = alpha * direction\n",
        "        x = x + alpha * direction\n",
        "        q = fooGradient(x) - gradX\n",
        "        k = k + 1\n",
        "        h = BFGSHessian(h, p, q)\n",
        "\n",
        "    print()\n",
        "    print(\"k=\", k)\n",
        "    print(\"x=\", x)\n",
        "    return gradValues\n",
        "temp = BFGS()"
      ]
    },
    {
      "cell_type": "markdown",
      "metadata": {},
      "source": [
        "#### CG Fletcher-Reeves"
      ]
    },
    {
      "cell_type": "code",
      "execution_count": 78,
      "metadata": {},
      "outputs": [
        {
          "name": "stdout",
          "output_type": "stream",
          "text": [
            "\n",
            "k= 2\n",
            "x= [2. 4.]\n"
          ]
        }
      ],
      "source": [
        "def CGFletcher_Reeves(next_gradX, gradX):\n",
        "    return (next_gradX.T @ next_gradX) / (gradX.T @ gradX)\n",
        "\n",
        "def CG_FR():\n",
        "    c = 0.7\n",
        "    rho = 0.5\n",
        "    alpha_0 = 1\n",
        "    h = np.array([[1, 0], [0, 1]])\n",
        "    x = np.array([0, 0])\n",
        "    k = 1\n",
        "    fooValues = []\n",
        "    gradValues = []\n",
        "    direction = -fooGradient(x)\n",
        "    while True:\n",
        "        fooValue = foo(x)\n",
        "        # print(f\"\\rk={k}, foo={fooValue}, x={x}\", end=\"\")\n",
        "        alpha = alpha_0\n",
        "        fooValues.append(fooValue)\n",
        "        gradX = fooGradient(x)\n",
        "        gradSquareX = gradX.T @ gradX\n",
        "        gradValues.append(gradSquareX)\n",
        "        if happy(gradSquareX):\n",
        "            break\n",
        "        while not armijo(x, alpha, direction, c, gradX):\n",
        "            alpha = alpha * rho\n",
        "        # next step\n",
        "        x = x + alpha * direction\n",
        "        beta = CGFletcher_Reeves(fooGradient(x), gradX)\n",
        "        direction = -fooGradient(x) + beta * direction\n",
        "        k = k + 1\n",
        "\n",
        "    print()\n",
        "    print(\"k=\", k)\n",
        "    print(\"x=\", x)\n",
        "    return gradValues\n",
        "temp = CG_FR()"
      ]
    },
    {
      "cell_type": "markdown",
      "metadata": {},
      "source": [
        "#### CG Polak-Ribiere"
      ]
    },
    {
      "cell_type": "code",
      "execution_count": 79,
      "metadata": {},
      "outputs": [
        {
          "name": "stdout",
          "output_type": "stream",
          "text": [
            "\n",
            "k= 2\n",
            "x= [2. 4.]\n"
          ]
        }
      ],
      "source": [
        "def CGPolak_Ribiere(next_gradX, gradX):\n",
        "    return (next_gradX.T @ (next_gradX - gradX)) / (gradX.T @ gradX)\n",
        "\n",
        "def CG_PR():\n",
        "    c = 0.7\n",
        "    rho = 0.5\n",
        "    alpha_0 = 1\n",
        "    h = np.array([[1, 0], [0, 1]])\n",
        "    x = np.array([0, 0])\n",
        "    k = 1\n",
        "    fooValues = []\n",
        "    gradValues = []\n",
        "    direction = -fooGradient(x)\n",
        "    while True:\n",
        "        fooValue = foo(x)\n",
        "        # print(f\"\\rk={k}, foo={fooValue}, x={x}\", end=\"\")\n",
        "        alpha = alpha_0\n",
        "        fooValues.append(fooValue)\n",
        "        gradX = fooGradient(x)\n",
        "        gradSquareX = gradX.T @ gradX\n",
        "        gradValues.append(gradSquareX)\n",
        "        if happy(gradSquareX):\n",
        "            break\n",
        "        while not armijo(x, alpha, direction, c, gradX):\n",
        "            alpha = alpha * rho\n",
        "        # next step\n",
        "        x = x + alpha * direction\n",
        "        beta = CGPolak_Ribiere(fooGradient(x), gradX)\n",
        "        direction = -fooGradient(x) + beta * direction\n",
        "        k = k + 1\n",
        "\n",
        "    print()\n",
        "    print(\"k=\", k)\n",
        "    print(\"x=\", x)\n",
        "    return gradValues\n",
        "temp = CG_PR()\n"
      ]
    },
    {
      "cell_type": "code",
      "execution_count": 80,
      "metadata": {},
      "outputs": [
        {
          "name": "stdout",
          "output_type": "stream",
          "text": [
            "\n",
            "k= 2\n",
            "x= [2. 4.]\n"
          ]
        },
        {
          "ename": "ValueError",
          "evalue": "math domain error",
          "output_type": "error",
          "traceback": [
            "\u001b[1;31m---------------------------------------------------------------------------\u001b[0m",
            "\u001b[1;31mValueError\u001b[0m                                Traceback (most recent call last)",
            "Cell \u001b[1;32mIn[80], line 2\u001b[0m\n\u001b[0;32m      1\u001b[0m xStart \u001b[38;5;241m=\u001b[39m \u001b[38;5;241m0\u001b[39m\n\u001b[1;32m----> 2\u001b[0m DFPy\u001b[38;5;241m=\u001b[39m \u001b[38;5;28;43mlist\u001b[39;49m\u001b[43m(\u001b[49m\u001b[38;5;28;43mmap\u001b[39;49m\u001b[43m(\u001b[49m\u001b[43mmath\u001b[49m\u001b[38;5;241;43m.\u001b[39;49m\u001b[43mlog10\u001b[49m\u001b[43m,\u001b[49m\u001b[43m \u001b[49m\u001b[43mDFP\u001b[49m\u001b[43m(\u001b[49m\u001b[43m)\u001b[49m\u001b[43m)\u001b[49m\u001b[43m)\u001b[49m\n\u001b[0;32m      3\u001b[0m DFPx \u001b[38;5;241m=\u001b[39m [i \u001b[38;5;28;01mfor\u001b[39;00m i \u001b[38;5;129;01min\u001b[39;00m \u001b[38;5;28mrange\u001b[39m(\u001b[38;5;28mlen\u001b[39m(DFPy))]\n\u001b[0;32m      5\u001b[0m BFGSy \u001b[38;5;241m=\u001b[39m \u001b[38;5;28mlist\u001b[39m(\u001b[38;5;28mmap\u001b[39m(math\u001b[38;5;241m.\u001b[39mlog10, BFGS()))\n",
            "\u001b[1;31mValueError\u001b[0m: math domain error"
          ]
        }
      ],
      "source": [
        "xStart = 0\n",
        "DFPy= list(map(math.log10, DFP()))\n",
        "DFPx = [i for i in range(len(DFPy))]\n",
        "\n",
        "BFGSy = list(map(math.log10, BFGS()))\n",
        "BFGSx = [i for i in range(len(BFGSy))]\n",
        "\n",
        "CG_FRy = list(map(math.log10, CG_FR()))\n",
        "CG_FRx = [i for i in range(len(CG_FRy))]\n",
        "\n",
        "CG_PRy = list(map(math.log10, CG_PR()))\n",
        "CG_PRx = [i for i in range(len(CG_PRy))]\n",
        "\n",
        "# Create a plot\n",
        "plt.plot(DFPx[xStart:], DFPy[xStart:], marker='o', linestyle='-', label='DFP')\n",
        "plt.plot(BFGSx[xStart:], BFGSy[xStart:], marker='o', linestyle='-', label='BFGS')\n",
        "plt.plot(CG_FRx[xStart:], CG_FRy[xStart:], marker='o', linestyle='-', label='CG_FR')\n",
        "plt.plot(CG_PRx[xStart:], CG_PRy[xStart:], marker='o', linestyle='-', label='CG_PR')\n",
        "\n",
        "# Add title and labels\n",
        "plt.title('Compare Quasi Newton and CG')\n",
        "plt.xlabel('iteration')\n",
        "plt.ylabel('log(grad)')\n",
        "plt.legend()\n",
        "\n",
        "# Show the plot\n",
        "plt.grid(True)  # Show grid\n",
        "plt.show()"
      ]
    },
    {
      "cell_type": "markdown",
      "metadata": {},
      "source": [
        "## question 5"
      ]
    },
    {
      "cell_type": "code",
      "execution_count": 3,
      "metadata": {},
      "outputs": [
        {
          "name": "stdout",
          "output_type": "stream",
          "text": [
            "Original: [[ 1.77635684e-15]\n",
            " [ 7.00000000e+00]\n",
            " [-1.77635684e-15]\n",
            " [-2.40000000e+01]\n",
            " [ 8.00000000e+00]\n",
            " [-2.20000000e+01]]\n",
            "ll: [[1.77635684e-15]\n",
            " [7.00000000e+00]\n",
            " [0.00000000e+00]\n",
            " [0.00000000e+00]\n",
            " [8.00000000e+00]\n",
            " [0.00000000e+00]]\n",
            "lu: [[0.00000000e+00]\n",
            " [0.00000000e+00]\n",
            " [1.77635684e-15]\n",
            " [2.40000000e+01]\n",
            " [0.00000000e+00]\n",
            " [2.20000000e+01]]\n",
            "x [[ 1.00000000e+00]\n",
            " [-2.00000000e+00]\n",
            " [-4.74613242e-16]\n",
            " [ 2.00000000e+00]\n",
            " [-2.00000000e+00]\n",
            " [ 2.00000000e+00]]\n",
            "lu*(u-x) [[3.55271368e-15]]\n",
            "ll*(x-l) [[5.32907052e-15]]\n",
            "\n",
            "k= 180\n",
            "[[-63.]]\n"
          ]
        }
      ],
      "source": [
        "import numpy as np\n",
        "import matplotlib.pyplot as plt\n",
        "def foo(x, G, C):\n",
        "    return (x.T @ G @ x) / 2 + C.T @ x\n",
        "\n",
        "def fooGradient(x, G, C):\n",
        "    return G @ x + C\n",
        "\n",
        "def armijo(x, alpha, direction, G, C):\n",
        "    f1 = foo(x, G, C)\n",
        "    f2 = foo(x + alpha * direction, G, C)\n",
        "    # print(\"x=\", x, \"f1=\", f1, \"f2=\", f2, \"alpha=\", alpha, \"direction=\", direction)\n",
        "    return f2 <= f1\n",
        "\n",
        "def happy(x, next_x):\n",
        "    criteria = (np.abs(x - next_x) < 1e-16)\n",
        "    return np.all(criteria)\n",
        "#### Test KKT-Condition\n",
        "def projection(x, u=2, l=-2):\n",
        "    return np.clip(x, l, u)\n",
        "\n",
        "\n",
        "def checkKKT(x, G, C, u=2, l=-2):\n",
        "    Gx_plus_C = G @ x + C\n",
        "    ll = np.maximum(Gx_plus_C, 0)  # 將所有元素小於0的部分補0\n",
        "    lu = np.maximum(-Gx_plus_C, 0)  # 將所有元素大於等於0的部分補0\n",
        "    print(\"Original:\", Gx_plus_C)\n",
        "    print(\"ll:\", ll)\n",
        "    print(\"lu:\", lu)\n",
        "    print(\"x\", x)\n",
        "    print(\"lu*(u-x)\", lu.T@(u-x))\n",
        "    print(\"ll*(x-l)\", ll.T@(x-l))\n",
        "\n",
        "def main():\n",
        "    rho = 0.5\n",
        "    alpha_0 = 0.05\n",
        "    k = 1\n",
        "    x = np.array([\n",
        "    [0],\n",
        "    [0],\n",
        "    [0],\n",
        "    [0],\n",
        "    [0],\n",
        "    [0]\n",
        "])\n",
        "    G = np.array([\n",
        "    [6, 0, 0, -6, -2, 1],\n",
        "    [0, 2, -2, 1, 1, 4],\n",
        "    [0, -2, 4, 1, -3, -6],\n",
        "    [-6, 1, 1, -2, 2, -4],\n",
        "    [-2, 1, -3, 2, -4, 0],\n",
        "    [1, 4, -6, -4, 0, -4]\n",
        "])\n",
        "    C = np.array([\n",
        "    [0],\n",
        "    [3],\n",
        "    [0],\n",
        "    [0],\n",
        "    [0],\n",
        "    [1]\n",
        "])\n",
        "    while True:\n",
        "        alpha = alpha_0\n",
        "        gradX = fooGradient(x, G, C)\n",
        "        direction = -gradX\n",
        "        while not armijo(x, alpha, direction, G, C):\n",
        "            alpha *= rho\n",
        "        if happy(x, projection(x + alpha * direction)):\n",
        "            break\n",
        "        # next step\n",
        "        x = projection(x + alpha * direction)\n",
        "        k = k + 1\n",
        "        # print(k, x, p, q, h, fooHessian(x), alpha, gradX, direction)\n",
        "\n",
        "    # Check KKT\n",
        "    checkKKT(x, G, C)\n",
        "    print()\n",
        "    print(\"k=\", k)\n",
        "    print(foo(x, G, C))\n",
        "    return 0\n",
        "temp = main()"
      ]
    }
  ],
  "metadata": {
    "colab": {
      "provenance": []
    },
    "kernelspec": {
      "display_name": "Python 3",
      "name": "python3"
    },
    "language_info": {
      "codemirror_mode": {
        "name": "ipython",
        "version": 3
      },
      "file_extension": ".py",
      "mimetype": "text/x-python",
      "name": "python",
      "nbconvert_exporter": "python",
      "pygments_lexer": "ipython3",
      "version": "3.11.4"
    }
  },
  "nbformat": 4,
  "nbformat_minor": 0
}
