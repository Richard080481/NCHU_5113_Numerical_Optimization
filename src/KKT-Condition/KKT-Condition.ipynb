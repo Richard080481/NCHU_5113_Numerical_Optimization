{
 "cells": [
  {
   "cell_type": "code",
   "execution_count": 125,
   "metadata": {},
   "outputs": [],
   "source": [
    "import numpy as np\n",
    "import signal\n",
    "import time\n",
    "import pickle\n",
    "import sys\n",
    "import matplotlib.pyplot as plt\n",
    "import math"
   ]
  },
  {
   "cell_type": "code",
   "execution_count": 126,
   "metadata": {},
   "outputs": [],
   "source": [
    "def foo(x, G, C):\n",
    "    return (x.T @ G @ x) / 2 + C.T @ x\n",
    "\n",
    "def fooGradient(x, G, C):\n",
    "    return G @ x + C\n",
    "\n",
    "def armijo(x, alpha, direction, G, C):\n",
    "    f1 = foo(x, G, C)\n",
    "    f2 = foo(x + alpha * direction, G, C)\n",
    "    # print(\"x=\", x, \"f1=\", f1, \"f2=\", f2, \"alpha=\", alpha, \"direction=\", direction)\n",
    "    return f2 <= f1\n",
    "\n",
    "def happy(x, next_x):\n",
    "    criteria = (np.abs(x - next_x) < 1e-16)\n",
    "    return np.all(criteria)"
   ]
  },
  {
   "cell_type": "markdown",
   "metadata": {},
   "source": [
    "#### Test KKT-Condition"
   ]
  },
  {
   "cell_type": "code",
   "execution_count": 127,
   "metadata": {},
   "outputs": [
    {
     "name": "stdout",
     "output_type": "stream",
     "text": [
      "Original: [[ 1.77635684e-15]\n",
      " [ 7.00000000e+00]\n",
      " [-1.77635684e-15]\n",
      " [-2.40000000e+01]\n",
      " [ 8.00000000e+00]\n",
      " [-2.20000000e+01]]\n",
      "ll: [[1.77635684e-15]\n",
      " [7.00000000e+00]\n",
      " [0.00000000e+00]\n",
      " [0.00000000e+00]\n",
      " [8.00000000e+00]\n",
      " [0.00000000e+00]]\n",
      "lu: [[0.00000000e+00]\n",
      " [0.00000000e+00]\n",
      " [1.77635684e-15]\n",
      " [2.40000000e+01]\n",
      " [0.00000000e+00]\n",
      " [2.20000000e+01]]\n",
      "x [[ 1.00000000e+00]\n",
      " [-2.00000000e+00]\n",
      " [-4.74613242e-16]\n",
      " [ 2.00000000e+00]\n",
      " [-2.00000000e+00]\n",
      " [ 2.00000000e+00]]\n",
      "lu*(u-x) [[3.55271368e-15]]\n",
      "ll*(x-l) [[5.32907052e-15]]\n",
      "\n",
      "k= 180\n",
      "[[-63.]]\n"
     ]
    }
   ],
   "source": [
    "def projection(x, u=2, l=-2):\n",
    "    return np.clip(x, l, u)\n",
    "\n",
    "\n",
    "def checkKKT(x, G, C, u=2, l=-2):\n",
    "    Gx_plus_C = G @ x + C\n",
    "    ll = np.maximum(Gx_plus_C, 0)  # 將所有元素小於0的部分補0\n",
    "    lu = np.maximum(-Gx_plus_C, 0)  # 將所有元素大於等於0的部分補0\n",
    "    print(\"Original:\", Gx_plus_C)\n",
    "    print(\"ll:\", ll)\n",
    "    print(\"lu:\", lu)\n",
    "    print(\"x\", x)\n",
    "    print(\"lu*(u-x)\", lu.T@(u-x))\n",
    "    print(\"ll*(x-l)\", ll.T@(x-l))\n",
    "\n",
    "def main():\n",
    "    rho = 0.5\n",
    "    alpha_0 = 0.05\n",
    "    k = 1\n",
    "    x = np.array([\n",
    "    [0],\n",
    "    [0],\n",
    "    [0],\n",
    "    [0],\n",
    "    [0],\n",
    "    [0]\n",
    "])\n",
    "    G = np.array([\n",
    "    [6, 0, 0, -6, -2, 1],\n",
    "    [0, 2, -2, 1, 1, 4],\n",
    "    [0, -2, 4, 1, -3, -6],\n",
    "    [-6, 1, 1, -2, 2, -4],\n",
    "    [-2, 1, -3, 2, -4, 0],\n",
    "    [1, 4, -6, -4, 0, -4]\n",
    "])\n",
    "    C = np.array([\n",
    "    [0],\n",
    "    [3],\n",
    "    [0],\n",
    "    [0],\n",
    "    [0],\n",
    "    [1]\n",
    "])\n",
    "    while True:\n",
    "        alpha = alpha_0\n",
    "        gradX = fooGradient(x, G, C)\n",
    "        direction = -gradX\n",
    "        while not armijo(x, alpha, direction, G, C):\n",
    "            alpha *= rho\n",
    "        if happy(x, projection(x + alpha * direction)):\n",
    "            break\n",
    "        # next step\n",
    "        x = projection(x + alpha * direction)\n",
    "        k = k + 1\n",
    "        # print(k, x, p, q, h, fooHessian(x), alpha, gradX, direction)\n",
    "\n",
    "    # Check KKT\n",
    "    checkKKT(x, G, C)\n",
    "    print()\n",
    "    print(\"k=\", k)\n",
    "    print(foo(x, G, C))\n",
    "    return 0\n",
    "temp = main()"
   ]
  }
 ],
 "metadata": {
  "kernelspec": {
   "display_name": "Python 3",
   "language": "python",
   "name": "python3"
  },
  "language_info": {
   "codemirror_mode": {
    "name": "ipython",
    "version": 3
   },
   "file_extension": ".py",
   "mimetype": "text/x-python",
   "name": "python",
   "nbconvert_exporter": "python",
   "pygments_lexer": "ipython3",
   "version": "3.11.4"
  }
 },
 "nbformat": 4,
 "nbformat_minor": 2
}
