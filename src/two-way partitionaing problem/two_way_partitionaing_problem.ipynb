{
  "nbformat": 4,
  "nbformat_minor": 0,
  "metadata": {
    "colab": {
      "provenance": []
    },
    "kernelspec": {
      "name": "python3",
      "display_name": "Python 3"
    },
    "language_info": {
      "name": "python"
    }
  },
  "cells": [
    {
      "cell_type": "code",
      "source": [
        "import numpy as np\n",
        "\n",
        "W = np.array([[8, -9, -12, -1, -7, 10],\n",
        "              [-9, 9, 4, -3, 12, 16],\n",
        "              [-12, 4, 13, 0, 0, 0],\n",
        "              [-1, -3, 0, 17, 5, -5],\n",
        "              [-7, 12, 0, 5, 19, 1],\n",
        "              [10, 16, 0, -5, 1, -3]])\n",
        "\n",
        "# Compute eigenvalues and eigenvectors\n",
        "eigenvalues, eigenvectors = np.linalg.eig(W)\n",
        "\n",
        "# Find the index of the smallest eigenvalue\n",
        "index_min_eigenvalue = np.argmin(eigenvalues)\n",
        "\n",
        "# Extract the smallest eigenvalue and its corresponding eigenvector\n",
        "smallest_eigenvalue = eigenvalues[index_min_eigenvalue]\n",
        "x = eigenvectors[:, index_min_eigenvalue]\n",
        "\n",
        "print(\"Smallest Eigenvalue:\", smallest_eigenvalue)\n",
        "print(\"Corresponding Eigenvector:\", x)\n",
        "\n",
        "def objective_function(W, x):\n",
        "    return x.T @ W @ x\n",
        "\n",
        "def gradient(W, x):\n",
        "    return 2 * W @ x"
      ],
      "metadata": {
        "colab": {
          "base_uri": "https://localhost:8080/"
        },
        "id": "FJg6awatWznj",
        "outputId": "3a6f7728-3ad6-4044-f883-0e8371ff241e"
      },
      "execution_count": null,
      "outputs": [
        {
          "output_type": "stream",
          "name": "stdout",
          "text": [
            "Smallest Eigenvalue: -20.873163017463007\n",
            "Corresponding Eigenvector: [ 0.43651504  0.52564625  0.09256872 -0.03421514 -0.05918837 -0.72104628]\n"
          ]
        }
      ]
    },
    {
      "cell_type": "code",
      "source": [
        "print(objective_function(W, x))\n",
        "\n",
        "result = np.where(x > 0, 1, -1)\n",
        "\n",
        "print(objective_function(W, result))\n",
        "\n",
        "alpha = 1000\n",
        "\n",
        "for i in range(100000):\n",
        "    while(1):\n",
        "        if objective_function(W, np.where(x > 0, 1, -1)) < objective_function(W, np.where((x - alpha * W @ x) > 0, 1, -1)):\n",
        "            alpha *= 0.5\n",
        "        else:\n",
        "            break\n",
        "    x = x - alpha * W @ x\n",
        "    result = np.where(x > 0, 1, -1)\n",
        "    best = objective_function(W, result)\n",
        "print(best)"
      ],
      "metadata": {
        "colab": {
          "base_uri": "https://localhost:8080/"
        },
        "id": "CbkfR8coTPC2",
        "outputId": "30d03b58-6d25-40f2-9713-01fc5dfd74cc"
      },
      "execution_count": null,
      "outputs": [
        {
          "output_type": "stream",
          "name": "stdout",
          "text": [
            "Smallest Eigenvalue: -20.873163017463007\n",
            "Corresponding Eigenvector: [ 0.43651504  0.52564625  0.09256872 -0.03421514 -0.05918837 -0.72104628]\n",
            "-20.873163017463003\n",
            "-23\n",
            "-27\n"
          ]
        }
      ]
    },
    {
      "cell_type": "code",
      "source": [
        "alpha = 0.01\n",
        "x = np.clip(x, -1, 1)\n",
        "for _ in range(1000):\n",
        "    x = x - alpha * gradient(W, x)\n",
        "    # print(x)\n",
        "    x = np.clip(x, -1, 1)\n",
        "x = np.clip(x, -1, 1)\n",
        "result = np.where(x > 0, 1, -1)\n",
        "print(objective_function(W, result))"
      ],
      "metadata": {
        "colab": {
          "base_uri": "https://localhost:8080/"
        },
        "id": "3P_88pOcWdb7",
        "outputId": "1d0a530c-9551-49fb-9295-d8dad9c4480b"
      },
      "execution_count": null,
      "outputs": [
        {
          "output_type": "stream",
          "name": "stdout",
          "text": [
            "-39\n"
          ]
        }
      ]
    }
  ]
}