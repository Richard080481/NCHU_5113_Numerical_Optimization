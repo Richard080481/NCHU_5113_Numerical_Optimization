{
 "cells": [
  {
   "cell_type": "code",
   "execution_count": 1,
   "metadata": {},
   "outputs": [],
   "source": [
    "import numpy as np\n",
    "import matplotlib.pyplot as plt"
   ]
  },
  {
   "cell_type": "markdown",
   "metadata": {},
   "source": [
    "#### stiefel manifold"
   ]
  },
  {
   "cell_type": "code",
   "execution_count": 2,
   "metadata": {},
   "outputs": [],
   "source": [
    "def foo(x, A):\n",
    "    return 0.5 * np.trace(x.T @ A @ x)\n",
    "\n",
    "def fooGradient(x, A):\n",
    "    return A @ x\n",
    "\n",
    "def gram_schmidt(x):\n",
    "    Q, _ = np.linalg.qr(x)\n",
    "    return Q\n",
    "\n",
    "def happy(x, next_x, A):\n",
    "    f1 = foo(x, A)\n",
    "    f2 = foo(next_x, A)\n",
    "    # print(f1 - f2)\n",
    "    return np.abs(f1 - f2) < 1e-8\n",
    "\n",
    "def armijo(x, A, alpha, direction):\n",
    "    f1 = foo(x, A)\n",
    "    f2 = foo(gram_schmidt(x + alpha * direction), A)\n",
    "    # print(\"f1=\", f1, \"f2=\", f2, \"alpha=\", alpha)\n",
    "    return f2 < f1\n",
    "\n",
    "def symmetric(x):\n",
    "    return 0.5 * (x + x.T)\n",
    "\n",
    "def projection(gradX, x):\n",
    "    return gradX - x @ symmetric(x.T @ gradX)"
   ]
  },
  {
   "cell_type": "code",
   "execution_count": 3,
   "metadata": {},
   "outputs": [
    {
     "name": "stdout",
     "output_type": "stream",
     "text": [
      "Three smallest eigenvalues(A):\n",
      "[-52.67841119 -50.05534054 -47.68535797]\n",
      "Three smallest eigenvalues(x.T A X):\n",
      "[-52.67840971 -50.05534054 -47.68535796]\n"
     ]
    }
   ],
   "source": [
    "def RayleighQuotient():\n",
    "    np.random.seed(42)\n",
    "\n",
    "    # Generate a random 100x3 matrix\n",
    "    random_matrix = np.random.rand(100, 3)\n",
    "    # Obtain an orthogonal matrix using Gram-Schmidt process\n",
    "    x = gram_schmidt(random_matrix)\n",
    "\n",
    "    # Generate a random lower triangular matrix\n",
    "    lower_triangular = np.tril(np.random.randint(0, 10, size=(100, 100)))\n",
    "    # Generate the symmetric matrix by adding its transpose to itself\n",
    "    A_matrix = lower_triangular + lower_triangular.T\n",
    "\n",
    "    fooValues = []\n",
    "    rho = 0.5\n",
    "    alpha_0 = 1\n",
    "    k = 1\n",
    "\n",
    "    while True:\n",
    "        alpha = alpha_0\n",
    "        gradX = fooGradient(x, A_matrix)\n",
    "        Z = projection(gradX, x)\n",
    "        direction = -Z\n",
    "        fooValues.append(foo(x, A_matrix))\n",
    "        while not armijo(x, A_matrix, alpha, direction):\n",
    "            alpha *= rho\n",
    "        if happy(x, gram_schmidt(x + alpha * direction), A_matrix):\n",
    "            break\n",
    "        # next step\n",
    "        x = gram_schmidt(x + alpha * direction)\n",
    "        k = k + 1\n",
    "        # print(\"k:\", k, \"foo:\", foo(x, A_matrix), \"alpha:\", alpha)\n",
    "    return x, A_matrix, fooValues\n",
    "\n",
    "def top3eigenvalues(x):\n",
    "    eigenvalues = np.linalg.eigvals(x)\n",
    "    sorted_eigenvalues = np.sort(eigenvalues)\n",
    "    return sorted_eigenvalues[:3]\n",
    "\n",
    "x, A, fooValues = RayleighQuotient()\n",
    "# Print the three smallest eigenvalues\n",
    "print(\"Three smallest eigenvalues(A):\")\n",
    "print(top3eigenvalues(A))\n",
    "print(\"Three smallest eigenvalues(x.T A X):\")\n",
    "print(top3eigenvalues(x.T @ A @ x))"
   ]
  },
  {
   "cell_type": "code",
   "execution_count": 4,
   "metadata": {},
   "outputs": [
    {
     "data": {
      "image/png": "[encoded data removed]",
      "text/plain": [
       "<Figure size 640x480 with 1 Axes>"
      ]
     },
     "metadata": {},
     "output_type": "display_data"
    }
   ],
   "source": [
    "k = [i for i in range(len(fooValues))]\n",
    "plt.plot(k[0:], fooValues[0:], marker='o', linestyle='-', label='f(x_k)')\n",
    "\n",
    "# Add title and labels\n",
    "plt.xlabel('iteration')\n",
    "plt.ylabel('f(x)')\n",
    "plt.legend()\n",
    "\n",
    "# Show the plot\n",
    "plt.grid(True)  # Show grid\n",
    "plt.show()"
   ]
  },
  {
   "cell_type": "markdown",
   "metadata": {},
   "source": [
    "#### Grassmann manifold"
   ]
  },
  {
   "cell_type": "code",
   "execution_count": 5,
   "metadata": {},
   "outputs": [],
   "source": [
    "def goo(x, A):\n",
    "    return np.trace(np.linalg.inv(x.T @ x) @ x.T @ A @ x)\n",
    "\n",
    "def gooGradient(x, A):\n",
    "    n = len(x)\n",
    "    I = np.identity(n)\n",
    "    return 2 * (I - x @ np.linalg.inv(x.T @ x) @ x.T) @ A @ x\n",
    "\n",
    "def gram_schmidt(x):\n",
    "    Q, _ = np.linalg.qr(x)\n",
    "    return Q\n",
    "\n",
    "def happy(x, next_x, A):\n",
    "    f1 = foo(x, A)\n",
    "    f2 = foo(next_x, A)\n",
    "    # print(f1 - f2)\n",
    "    return np.abs(f1 - f2) < 1e-8\n",
    "\n",
    "def armijo(x, A, alpha, direction):\n",
    "    f1 = foo(x, A)\n",
    "    f2 = foo(gram_schmidt(x + alpha * direction), A)\n",
    "    # print(\"f1=\", f1, \"f2=\", f2, \"alpha=\", alpha)\n",
    "    return f2 < f1\n",
    "\n",
    "def symmetric(x):\n",
    "    return 0.5 * (x + x.T)\n",
    "\n",
    "def projection(gradX, x):\n",
    "    return gradX - x @ symmetric(x.T @ gradX)"
   ]
  },
  {
   "cell_type": "code",
   "execution_count": 6,
   "metadata": {},
   "outputs": [
    {
     "name": "stdout",
     "output_type": "stream",
     "text": [
      "Three smallest eigenvalues(A):\n",
      "[-52.67841119 -50.05534054 -47.68535797]\n",
      "Three smallest eigenvalues(x.T A X):\n",
      "[-52.6784097  -50.05534054 -47.68535796]\n"
     ]
    }
   ],
   "source": [
    "def RayleighQuotient():\n",
    "    np.random.seed(42)\n",
    "\n",
    "    # Generate a random 100x3 matrix\n",
    "    random_matrix = np.random.rand(100, 3)\n",
    "    # Obtain an orthogonal matrix using Gram-Schmidt process\n",
    "    x = gram_schmidt(random_matrix)\n",
    "\n",
    "    # Generate a random lower triangular matrix\n",
    "    lower_triangular = np.tril(np.random.randint(0, 10, size=(100, 100)))\n",
    "    # Generate the symmetric matrix by adding its transpose to itself\n",
    "    A_matrix = lower_triangular + lower_triangular.T\n",
    "\n",
    "    gooValues = []\n",
    "    rho = 0.5\n",
    "    alpha_0 = 1\n",
    "    k = 1\n",
    "\n",
    "    while True:\n",
    "        alpha = alpha_0\n",
    "        gradX = gooGradient(x, A_matrix)\n",
    "        Z = projection(gradX, x)\n",
    "        direction = -Z\n",
    "        gooValues.append(goo(x, A_matrix))\n",
    "        while not armijo(x, A_matrix, alpha, direction):\n",
    "            alpha *= rho\n",
    "        if happy(x, gram_schmidt(x + alpha * direction), A_matrix):\n",
    "            break\n",
    "        # next step\n",
    "        x = gram_schmidt(x + alpha * direction)\n",
    "        k = k + 1\n",
    "        # print(\"k:\", k, \"goo:\", goo(x, A_matrix), \"alpha:\", alpha)\n",
    "    return x, A_matrix, gooValues\n",
    "\n",
    "def top3eigenvalues(x):\n",
    "    eigenvalues = np.linalg.eigvals(x)\n",
    "    sorted_eigenvalues = np.sort(eigenvalues)\n",
    "    return sorted_eigenvalues[:3]\n",
    "\n",
    "x, A, gooValues = RayleighQuotient()\n",
    "# Print the three smallest eigenvalues\n",
    "print(\"Three smallest eigenvalues(A):\")\n",
    "print(top3eigenvalues(A))\n",
    "print(\"Three smallest eigenvalues(x.T A X):\")\n",
    "print(top3eigenvalues(x.T @ A @ x))"
   ]
  },
  {
   "cell_type": "code",
   "execution_count": 6,
   "metadata": {},
   "outputs": [
    {
     "data": {
      "image/png": "[encoded data removed]",
      "text/plain": [
       "<Figure size 640x480 with 1 Axes>"
      ]
     },
     "metadata": {},
     "output_type": "display_data"
    }
   ],
   "source": [
    "k = [i for i in range(len(gooValues))]\n",
    "plt.plot(k[0:], gooValues[0:], marker='o', linestyle='-', label='f(x_k)')\n",
    "\n",
    "# Add title and labels\n",
    "plt.xlabel('iteration')\n",
    "plt.ylabel('f(x)')\n",
    "plt.legend()\n",
    "\n",
    "# Show the plot\n",
    "plt.grid(True)  # Show grid\n",
    "plt.show()"
   ]
  }
 ],
 "metadata": {
  "kernelspec": {
   "display_name": "Python 3",
   "language": "python",
   "name": "python3"
  },
  "language_info": {
   "codemirror_mode": {
    "name": "ipython",
    "version": 3
   },
   "file_extension": ".py",
   "mimetype": "text/x-python",
   "name": "python",
   "nbconvert_exporter": "python",
   "pygments_lexer": "ipython3",
   "version": "3.11.4"
  }
 },
 "nbformat": 4,
 "nbformat_minor": 2
}
